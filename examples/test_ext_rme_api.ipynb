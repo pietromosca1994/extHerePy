{
 "cells": [
  {
   "cell_type": "code",
   "execution_count": 9,
   "metadata": {},
   "outputs": [
    {
     "ename": "ModuleNotFoundError",
     "evalue": "No module named 'tests'",
     "output_type": "error",
     "traceback": [
      "\u001b[0;31m---------------------------------------------------------------------------\u001b[0m",
      "\u001b[0;31mModuleNotFoundError\u001b[0m                       Traceback (most recent call last)",
      "\u001b[1;32m/home/pmosca/repos/extHerePy/tests/test_ext_rme_api.ipynb Cell 1\u001b[0m in \u001b[0;36m<cell line: 2>\u001b[0;34m()\u001b[0m\n\u001b[1;32m      <a href='vscode-notebook-cell://wsl%2Bubuntu-20.04/home/pmosca/repos/extHerePy/tests/test_ext_rme_api.ipynb#W0sdnNjb2RlLXJlbW90ZQ%3D%3D?line=0'>1</a>\u001b[0m \u001b[39m# import functions \u001b[39;00m\n\u001b[0;32m----> <a href='vscode-notebook-cell://wsl%2Bubuntu-20.04/home/pmosca/repos/extHerePy/tests/test_ext_rme_api.ipynb#W0sdnNjb2RlLXJlbW90ZQ%3D%3D?line=1'>2</a>\u001b[0m \u001b[39mimport\u001b[39;00m \u001b[39mtests\u001b[39;00m\n\u001b[1;32m      <a href='vscode-notebook-cell://wsl%2Bubuntu-20.04/home/pmosca/repos/extHerePy/tests/test_ext_rme_api.ipynb#W0sdnNjb2RlLXJlbW90ZQ%3D%3D?line=2'>3</a>\u001b[0m \u001b[39mfrom\u001b[39;00m \u001b[39mextherepy\u001b[39;00m \u001b[39mimport\u001b[39;00m ext_rme_api, extUtils\n",
      "\u001b[0;31mModuleNotFoundError\u001b[0m: No module named 'tests'"
     ]
    }
   ],
   "source": [
    "# import functions \n",
    "import tests\n",
    "from extherepy import ext_rme_api, extUtils"
   ]
  },
  {
   "cell_type": "code",
   "execution_count": 2,
   "metadata": {},
   "outputs": [],
   "source": [
    "HERE_API_KEY='Zgi-Wa158WGAbsVWLb-TC5pRK0dLZnPtuAMdQf0TvGw'\n",
    "\n",
    "extrme_api=ext_rme_api.extRmeApi(api_key=HERE_API_KEY)"
   ]
  },
  {
   "cell_type": "code",
   "execution_count": 3,
   "metadata": {},
   "outputs": [],
   "source": [
    "gpx_file=\"./routes/2021-11-13_16_52_GMT+1.gpx\""
   ]
  }
 ],
 "metadata": {
  "kernelspec": {
   "display_name": "Python 3.10.4 ('HerePy_env')",
   "language": "python",
   "name": "python3"
  },
  "language_info": {
   "codemirror_mode": {
    "name": "ipython",
    "version": 3
   },
   "file_extension": ".py",
   "mimetype": "text/x-python",
   "name": "python",
   "nbconvert_exporter": "python",
   "pygments_lexer": "ipython3",
   "version": "3.10.6"
  },
  "orig_nbformat": 4,
  "vscode": {
   "interpreter": {
    "hash": "d4200cc2464510d2fa766539922ccadfe7cc694cdde79fd1468083bcbcd6ab7f"
   }
  }
 },
 "nbformat": 4,
 "nbformat_minor": 2
}
