{
 "cells": [
  {
   "cell_type": "code",
   "execution_count": 1,
   "metadata": {},
   "outputs": [],
   "source": [
    "# import functions \n",
    "from ext_rme_api import extRmeApi\n",
    "import extUtils"
   ]
  },
  {
   "cell_type": "code",
   "execution_count": 2,
   "metadata": {},
   "outputs": [],
   "source": [
    "HERE_API_KEY='Zgi-Wa158WGAbsVWLb-TC5pRK0dLZnPtuAMdQf0TvGw'\n",
    "\n",
    "extrme_api=extRmeApi(api_key=HERE_API_KEY)"
   ]
  },
  {
   "cell_type": "code",
   "execution_count": 3,
   "metadata": {},
   "outputs": [],
   "source": [
    "gpx_file=\"./routes/2021-11-13_16_52_GMT+1.gpx\""
   ]
  }
 ],
 "metadata": {
  "kernelspec": {
   "display_name": "Python 3.10.4 ('HerePy_env')",
   "language": "python",
   "name": "python3"
  },
  "language_info": {
   "codemirror_mode": {
    "name": "ipython",
    "version": 3
   },
   "file_extension": ".py",
   "mimetype": "text/x-python",
   "name": "python",
   "nbconvert_exporter": "python",
   "pygments_lexer": "ipython3",
   "version": "3.10.4"
  },
  "orig_nbformat": 4,
  "vscode": {
   "interpreter": {
    "hash": "d4200cc2464510d2fa766539922ccadfe7cc694cdde79fd1468083bcbcd6ab7f"
   }
  }
 },
 "nbformat": 4,
 "nbformat_minor": 2
}
